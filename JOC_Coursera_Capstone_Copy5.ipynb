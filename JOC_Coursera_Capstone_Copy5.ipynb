{
  "nbformat": 4,
  "nbformat_minor": 0,
  "metadata": {
    "colab": {
      "name": "JOC_Coursera_Capstone-Copy5.ipynb",
      "version": "0.3.2",
      "provenance": [],
      "collapsed_sections": [],
      "toc_visible": true,
      "include_colab_link": true
    },
    "kernelspec": {
      "display_name": "Python 3",
      "language": "python",
      "name": "python3"
    }
  },
  "cells": [
    {
      "cell_type": "markdown",
      "metadata": {
        "id": "view-in-github",
        "colab_type": "text"
      },
      "source": [
        "<a href=\"https://colab.research.google.com/github/20v100/Coursera_Capstone/blob/master/JOC_Coursera_Capstone_Copy5.ipynb\" target=\"_parent\"><img src=\"https://colab.research.google.com/assets/colab-badge.svg\" alt=\"Open In Colab\"/></a>"
      ]
    },
    {
      "metadata": {
        "colab_type": "text",
        "id": "xbo8RHP8sIjZ"
      },
      "cell_type": "markdown",
      "source": [
        "# 1. INTRODUCTION\n",
        "\n",
        "According to the latest information published by the U.S. Census Bureau the percentage of people that move every year equates to 14% of the population (or roughly 40 million). People move for a variety of reasons: housing, jobs, family, etc. __[link](https://www.northamerican.com/migration-map)__\n",
        "\n",
        "When evaluating which city to settle in, movers may like to compare the similarity of other cities to the city they are living in.\n",
        "\n",
        "\n",
        "When exploring other cities that one could move to, the similarity of venues could be used to assess similarities amongst cities.\n"
      ]
    },
    {
      "metadata": {
        "colab_type": "text",
        "id": "bUxnorBl9l8a"
      },
      "cell_type": "markdown",
      "source": [
        "# 2. DATA OVERVIEW\n",
        "\n",
        "This project leverage Foursquare API to compare venues in different cities. Venues in each studied cities are compared base on:\n",
        "\n",
        "- Their categories (Coffe shops, steakhouses, etc.)\n",
        "- The frequencies of venues in each category\n",
        "\n",
        "For the purpose of this project, the following cities are compared:\n",
        "\n",
        "- Calgary       \n",
        "- Dallas        \n",
        "- Denver        \n",
        "- Houston        \n",
        "- Miami         \n",
        "- Montreal      \n",
        "- New York      \n",
        "- Toronto       \n",
        "- Vancouver     \n",
        "- Washington    \n",
        "\n",
        "**Limitations**\n",
        "\n",
        "Foursquare free membership limits the number of venues that can be fetched to 100 per city per call. Since the present project is for academic purpose, only 100 venues were extracted per city. Real life applications of the model should consider taking a paid membership. The sampled cities were within a radius of 2km around the center of the cities."
      ]
    },
    {
      "metadata": {
        "colab_type": "text",
        "id": "uGVCbx0--GFr"
      },
      "cell_type": "markdown",
      "source": [
        "# 3. METHODOLOGY\n",
        "\n",
        "<br>\n",
        "During the first iterations of the below project, it was discovered the most frequent venue category was \"Hotel\". Since potential movers aren't looking to buy or rent a property, this category is now removed from the dataset.\n",
        "\n",
        "Also, the categories \"Coffee Shop\" and \"Café\" are merged together since \"Café\" is the French equivalent of \"Coffee Shop\".\n",
        "\n",
        "The cities are mapped in 3 clusters using K-Means. K-Means is a proven unsupervised ML technique to classify features with several dependent variables.\n",
        "\n",
        "Visualization techniques used are geographical maps to clearly locate the clusters and Heatmap. Heatmaps are useful to interpret cluster patterns identified by the K-Means technique."
      ]
    },
    {
      "metadata": {
        "colab_type": "text",
        "id": "mXWrDGUZAuOm"
      },
      "cell_type": "markdown",
      "source": [
        "## Libraries, Packages and Credentials"
      ]
    },
    {
      "metadata": {
        "colab_type": "code",
        "id": "tSLmiySCr9bs",
        "outputId": "5e5267d3-5e0c-4cb9-e16b-523366f309b8",
        "colab": {
          "base_uri": "https://localhost:8080/",
          "height": 258
        }
      },
      "cell_type": "code",
      "source": [
        "# import the libraries\n",
        "\n",
        "# Basic Libraries\n",
        "import requests # library to handle requests\n",
        "import pandas as pd # library for data analsysis\n",
        "import numpy as np # library to handle data in a vectorized manner\n",
        "import random # library for random number generation\n",
        "    \n",
        "# tranforming json file into a pandas dataframe library\n",
        "from pandas.io.json import json_normalize\n",
        "\n",
        "# Matplotlib and associated plotting modules\n",
        "from matplotlib import pyplot\n",
        "import matplotlib.cm as cm\n",
        "import matplotlib.colors as colors\n",
        "print('All imported')\n",
        "import seaborn as sns\n",
        "\n",
        "# plotting library\n",
        "!pip install folium\n",
        "import folium\n",
        "\n",
        "# libraries for displaying images\n",
        "from IPython.display import Image \n",
        "from IPython.core.display import HTML \n",
        "\n",
        "# import k-means from clustering stage\n",
        "from sklearn.cluster import KMeans\n",
        "\n",
        "print('Libraries imported.')"
      ],
      "execution_count": 0,
      "outputs": [
        {
          "output_type": "stream",
          "text": [
            "All imported\n",
            "Requirement already satisfied: folium in /Users/v20100/anaconda3/lib/python3.7/site-packages (0.7.0)\n",
            "Requirement already satisfied: six in /Users/v20100/anaconda3/lib/python3.7/site-packages (from folium) (1.11.0)\n",
            "Requirement already satisfied: jinja2 in /Users/v20100/anaconda3/lib/python3.7/site-packages (from folium) (2.10)\n",
            "Requirement already satisfied: requests in /Users/v20100/anaconda3/lib/python3.7/site-packages (from folium) (2.19.1)\n",
            "Requirement already satisfied: branca>=0.3.0 in /Users/v20100/anaconda3/lib/python3.7/site-packages (from folium) (0.3.1)\n",
            "Requirement already satisfied: numpy in /Users/v20100/anaconda3/lib/python3.7/site-packages (from folium) (1.15.1)\n",
            "Requirement already satisfied: MarkupSafe>=0.23 in /Users/v20100/anaconda3/lib/python3.7/site-packages (from jinja2->folium) (1.0)\n",
            "Requirement already satisfied: idna<2.8,>=2.5 in /Users/v20100/anaconda3/lib/python3.7/site-packages (from requests->folium) (2.7)\n",
            "Requirement already satisfied: certifi>=2017.4.17 in /Users/v20100/anaconda3/lib/python3.7/site-packages (from requests->folium) (2018.8.24)\n",
            "Requirement already satisfied: chardet<3.1.0,>=3.0.2 in /Users/v20100/anaconda3/lib/python3.7/site-packages (from requests->folium) (3.0.4)\n",
            "Requirement already satisfied: urllib3<1.24,>=1.21.1 in /Users/v20100/anaconda3/lib/python3.7/site-packages (from requests->folium) (1.23)\n",
            "\u001b[31mtwisted 18.7.0 requires PyHamcrest>=1.9.0, which is not installed.\u001b[0m\n",
            "\u001b[33mYou are using pip version 10.0.1, however version 18.1 is available.\n",
            "You should consider upgrading via the 'pip install --upgrade pip' command.\u001b[0m\n",
            "Libraries imported.\n"
          ],
          "name": "stdout"
        }
      ]
    },
    {
      "metadata": {
        "colab_type": "code",
        "id": "H1G46wP8kjJV",
        "outputId": "354beb41-048d-49b6-abcc-3e72a0abcc59",
        "colab": {
          "base_uri": "https://localhost:8080/",
          "height": 68
        }
      },
      "cell_type": "code",
      "source": [
        "#Four Square Credentials\n",
        "CLIENT_ID = 'Z4G102XHUFAUSKXKLFW01UEVDEO3XIDLWNTGEWAKJDNN21JW' # your Foursquare ID\n",
        "CLIENT_SECRET = 'TFQ4CBEKWNASZD4FROH4NHUS5PWSGRT2A14RWA3UFRFC54EU' # your Foursquare Secret\n",
        "VERSION = '20180604'\n",
        "LIMIT = 500\n",
        "print('Your credentails:')\n",
        "print('CLIENT_ID: ' + CLIENT_ID)\n",
        "print('CLIENT_SECRET:' + CLIENT_SECRET)"
      ],
      "execution_count": 0,
      "outputs": [
        {
          "output_type": "stream",
          "text": [
            "Your credentails:\n",
            "CLIENT_ID: Z4G102XHUFAUSKXKLFW01UEVDEO3XIDLWNTGEWAKJDNN21JW\n",
            "CLIENT_SECRET:TFQ4CBEKWNASZD4FROH4NHUS5PWSGRT2A14RWA3UFRFC54EU\n"
          ],
          "name": "stdout"
        }
      ]
    },
    {
      "metadata": {
        "colab_type": "text",
        "id": "7euvspf9-GVG"
      },
      "cell_type": "markdown",
      "source": [
        "# 4. RESULTS\n",
        "Results section where you discuss the results"
      ]
    },
    {
      "metadata": {
        "colab_type": "text",
        "id": "yX5VtnyOC6Xk"
      },
      "cell_type": "markdown",
      "source": [
        "## Data Loading"
      ]
    },
    {
      "metadata": {
        "colab_type": "text",
        "id": "02kG1lnQD80Q"
      },
      "cell_type": "markdown",
      "source": [
        "### Defining cities to analyse "
      ]
    },
    {
      "metadata": {
        "colab_type": "code",
        "id": "hsrS21mdf8nE",
        "outputId": "94e57218-437c-4c61-b5ea-fd029e2b39d1",
        "colab": {
          "base_uri": "https://localhost:8080/",
          "height": 204
        }
      },
      "cell_type": "code",
      "source": [
        "cities = {'name': ['Montreal', 'Toronto', 'Vancouver', 'Calgary', 'New York', 'Denver', 'Dallas', 'Miami', 'Houston', 'Washington', 'Los Angeles'],\n",
        "         'lat': [45.5017, 43.6532, 49.2827, 51.0486, 40.7128, 39.7392, 32.7767, 25.7617, 29.7604, 38.9072, 34.0522], \n",
        "         'long': [-73.5673, -79.3832, -123.1207, -114.0708, -74.0060, -104.9903, -96.7970, -80.1918, -95.3698, -77.0369, -118.2437]\n",
        "        }\n",
        "\n",
        "city_df = pd.DataFrame(cities)\n",
        "city_df.head()"
      ],
      "execution_count": 0,
      "outputs": [
        {
          "output_type": "execute_result",
          "data": {
            "text/html": [
              "<div>\n",
              "<style scoped>\n",
              "    .dataframe tbody tr th:only-of-type {\n",
              "        vertical-align: middle;\n",
              "    }\n",
              "\n",
              "    .dataframe tbody tr th {\n",
              "        vertical-align: top;\n",
              "    }\n",
              "\n",
              "    .dataframe thead th {\n",
              "        text-align: right;\n",
              "    }\n",
              "</style>\n",
              "<table border=\"1\" class=\"dataframe\">\n",
              "  <thead>\n",
              "    <tr style=\"text-align: right;\">\n",
              "      <th></th>\n",
              "      <th>name</th>\n",
              "      <th>lat</th>\n",
              "      <th>long</th>\n",
              "    </tr>\n",
              "  </thead>\n",
              "  <tbody>\n",
              "    <tr>\n",
              "      <th>0</th>\n",
              "      <td>Montreal</td>\n",
              "      <td>45.5017</td>\n",
              "      <td>-73.5673</td>\n",
              "    </tr>\n",
              "    <tr>\n",
              "      <th>1</th>\n",
              "      <td>Toronto</td>\n",
              "      <td>43.6532</td>\n",
              "      <td>-79.3832</td>\n",
              "    </tr>\n",
              "    <tr>\n",
              "      <th>2</th>\n",
              "      <td>Vancouver</td>\n",
              "      <td>49.2827</td>\n",
              "      <td>-123.1207</td>\n",
              "    </tr>\n",
              "    <tr>\n",
              "      <th>3</th>\n",
              "      <td>Calgary</td>\n",
              "      <td>51.0486</td>\n",
              "      <td>-114.0708</td>\n",
              "    </tr>\n",
              "    <tr>\n",
              "      <th>4</th>\n",
              "      <td>New York</td>\n",
              "      <td>40.7128</td>\n",
              "      <td>-74.0060</td>\n",
              "    </tr>\n",
              "  </tbody>\n",
              "</table>\n",
              "</div>"
            ],
            "text/plain": [
              "        name      lat      long\n",
              "0   Montreal  45.5017  -73.5673\n",
              "1    Toronto  43.6532  -79.3832\n",
              "2  Vancouver  49.2827 -123.1207\n",
              "3    Calgary  51.0486 -114.0708\n",
              "4   New York  40.7128  -74.0060"
            ]
          },
          "metadata": {
            "tags": []
          },
          "execution_count": 29
        }
      ]
    },
    {
      "metadata": {
        "colab_type": "code",
        "id": "Nw4SKhKvt__N",
        "outputId": "6705ae01-fabf-4b9f-d6d6-b29a2cf48739",
        "colab": {
          "base_uri": "https://localhost:8080/",
          "height": 611
        }
      },
      "cell_type": "code",
      "source": [
        "# create map\n",
        "\n",
        "latitude  = 40\n",
        "longitude = -105.2551\n",
        "zoom_start = 4\n",
        "\n",
        "map_clusters = folium.Map(location=[latitude, longitude], zoom_start=zoom_start)\n",
        "\n",
        "# # set color scheme for the clusters\n",
        "# x = np.arange(city_df['name'])\n",
        "# ys = [i+x+(i*x)**2 for i in range(city_df['name'])]\n",
        "# colors_array = cm.rainbow(np.linspace(0, 1, len(ys)))\n",
        "# rainbow = [colors.rgb2hex(i) for i in colors_array]\n",
        "\n",
        "# add markers to the map\n",
        "markers_colors = []\n",
        "for lat, lon, poi, cluster in zip(city_df['lat'], city_df['long'], city_df['name'], city_df['name']):\n",
        "    label = folium.Popup(str(poi) + ' Cluster ' + str(cluster), parse_html=True)\n",
        "    folium.CircleMarker(\n",
        "        [lat, lon],\n",
        "        radius=5,\n",
        "        popup=label,\n",
        "#         color=rainbow[cluster-1],\n",
        "        fill=True,\n",
        "#         fill_color=rainbow[cluster-1],\n",
        "        fill_opacity=0.7).add_to(map_clusters)\n",
        "       \n",
        "map_clusters"
      ],
      "execution_count": 0,
      "outputs": [
        {
          "output_type": "execute_result",
          "data": {
            "text/html": [
              "<div style=\"width:100%;\"><div style=\"position:relative;width:100%;height:0;padding-bottom:60%;\"><iframe src=\"data:text/html;charset=utf-8;base64,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\" style=\"position:absolute;width:100%;height:100%;left:0;top:0;border:none !important;\" allowfullscreen webkitallowfullscreen mozallowfullscreen></iframe></div></div>"
            ],
            "text/plain": [
              "<folium.folium.Map at 0x1a25e40e10>"
            ]
          },
          "metadata": {
            "tags": []
          },
          "execution_count": 30
        }
      ]
    },
    {
      "metadata": {
        "colab_type": "text",
        "id": "5sbYmQ9IEXII"
      },
      "cell_type": "markdown",
      "source": [
        "### Loading Foursquare information on the selected cities"
      ]
    },
    {
      "metadata": {
        "colab_type": "code",
        "id": "NCqf6UHeKIZa",
        "colab": {}
      },
      "cell_type": "code",
      "source": [
        "# Function that explore cities\n",
        "# Radius is 2 KM\n",
        "def getNearbyVenues(names, latitudes, longitudes, radius=1000):\n",
        "    \n",
        "    venues_list=[]\n",
        "    for name, lat, lng in zip(names, latitudes, longitudes):\n",
        "        print(name)\n",
        "            \n",
        "        # create the API request URL\n",
        "        url = 'https://api.foursquare.com/v2/venues/explore?&client_id={}&client_secret={}&v={}&ll={},{}&radius={}&limit={}'.format(\n",
        "            CLIENT_ID, \n",
        "            CLIENT_SECRET, \n",
        "            VERSION, \n",
        "            lat, \n",
        "            lng, \n",
        "            radius, \n",
        "            LIMIT)\n",
        "            \n",
        "        # make the GET request\n",
        "        results = requests.get(url).json()[\"response\"]['groups'][0]['items']\n",
        "        \n",
        "        # return only relevant information for each nearby venue\n",
        "        venues_list.append([(\n",
        "            name, \n",
        "            lat, \n",
        "            lng, \n",
        "            v['venue']['name'], \n",
        "            v['venue']['location']['lat'], \n",
        "            v['venue']['location']['lng'],  \n",
        "            v['venue']['categories'][0]['name']) for v in results])\n",
        "\n",
        "    nearby_venues = pd.DataFrame([item for venue_list in venues_list for item in venue_list])\n",
        "    nearby_venues.columns = ['city', \n",
        "                  'city Latitude', \n",
        "                  'city Longitude', \n",
        "                  'Venue', \n",
        "                  'Venue Latitude', \n",
        "                  'Venue Longitude', \n",
        "                  'Venue Category']\n",
        "    \n",
        "    return(nearby_venues)"
      ],
      "execution_count": 0,
      "outputs": []
    },
    {
      "metadata": {
        "colab_type": "code",
        "id": "LO3sR_QXdOtI",
        "outputId": "799ff367-434a-46ce-9898-009da2201b1d",
        "colab": {
          "base_uri": "https://localhost:8080/",
          "height": 204
        }
      },
      "cell_type": "code",
      "source": [
        "# Resquest info on venues from Foursquare\n",
        "city_venues = getNearbyVenues(names=city_df['name'],\n",
        "                                   latitudes=city_df['lat'],\n",
        "                                   longitudes=city_df['long']\n",
        "                                  )"
      ],
      "execution_count": 0,
      "outputs": [
        {
          "output_type": "stream",
          "text": [
            "Montreal\n",
            "Toronto\n",
            "Vancouver\n",
            "Calgary\n",
            "New York\n",
            "Denver\n",
            "Dallas\n",
            "Miami\n",
            "Houston\n",
            "Washington\n",
            "Los Angeles\n"
          ],
          "name": "stdout"
        }
      ]
    },
    {
      "metadata": {
        "colab_type": "code",
        "id": "cR7QIDkWDXSy",
        "outputId": "61de67f5-9603-4eda-acea-c02c318fa815",
        "colab": {
          "base_uri": "https://localhost:8080/",
          "height": 204
        }
      },
      "cell_type": "code",
      "source": [
        "city_venues.head()"
      ],
      "execution_count": 0,
      "outputs": [
        {
          "output_type": "execute_result",
          "data": {
            "text/html": [
              "<div>\n",
              "<style scoped>\n",
              "    .dataframe tbody tr th:only-of-type {\n",
              "        vertical-align: middle;\n",
              "    }\n",
              "\n",
              "    .dataframe tbody tr th {\n",
              "        vertical-align: top;\n",
              "    }\n",
              "\n",
              "    .dataframe thead th {\n",
              "        text-align: right;\n",
              "    }\n",
              "</style>\n",
              "<table border=\"1\" class=\"dataframe\">\n",
              "  <thead>\n",
              "    <tr style=\"text-align: right;\">\n",
              "      <th></th>\n",
              "      <th>city</th>\n",
              "      <th>city Latitude</th>\n",
              "      <th>city Longitude</th>\n",
              "      <th>Venue</th>\n",
              "      <th>Venue Latitude</th>\n",
              "      <th>Venue Longitude</th>\n",
              "      <th>Venue Category</th>\n",
              "    </tr>\n",
              "  </thead>\n",
              "  <tbody>\n",
              "    <tr>\n",
              "      <th>0</th>\n",
              "      <td>Montreal</td>\n",
              "      <td>45.5017</td>\n",
              "      <td>-73.5673</td>\n",
              "      <td>The Keg Steakhouse &amp; Bar</td>\n",
              "      <td>45.500730</td>\n",
              "      <td>-73.568971</td>\n",
              "      <td>Steakhouse</td>\n",
              "    </tr>\n",
              "    <tr>\n",
              "      <th>1</th>\n",
              "      <td>Montreal</td>\n",
              "      <td>45.5017</td>\n",
              "      <td>-73.5673</td>\n",
              "      <td>96,9 CKOI</td>\n",
              "      <td>45.500000</td>\n",
              "      <td>-73.565269</td>\n",
              "      <td>Music Venue</td>\n",
              "    </tr>\n",
              "    <tr>\n",
              "      <th>2</th>\n",
              "      <td>Montreal</td>\n",
              "      <td>45.5017</td>\n",
              "      <td>-73.5673</td>\n",
              "      <td>Escondite</td>\n",
              "      <td>45.503045</td>\n",
              "      <td>-73.567888</td>\n",
              "      <td>Taco Place</td>\n",
              "    </tr>\n",
              "    <tr>\n",
              "      <th>3</th>\n",
              "      <td>Montreal</td>\n",
              "      <td>45.5017</td>\n",
              "      <td>-73.5673</td>\n",
              "      <td>Tunnel Espresso</td>\n",
              "      <td>45.502167</td>\n",
              "      <td>-73.569954</td>\n",
              "      <td>Coffee Shop</td>\n",
              "    </tr>\n",
              "    <tr>\n",
              "      <th>4</th>\n",
              "      <td>Montreal</td>\n",
              "      <td>45.5017</td>\n",
              "      <td>-73.5673</td>\n",
              "      <td>Il Focolaio</td>\n",
              "      <td>45.504009</td>\n",
              "      <td>-73.568213</td>\n",
              "      <td>Pizza Place</td>\n",
              "    </tr>\n",
              "  </tbody>\n",
              "</table>\n",
              "</div>"
            ],
            "text/plain": [
              "       city  city Latitude  city Longitude                     Venue  \\\n",
              "0  Montreal        45.5017        -73.5673  The Keg Steakhouse & Bar   \n",
              "1  Montreal        45.5017        -73.5673                 96,9 CKOI   \n",
              "2  Montreal        45.5017        -73.5673                 Escondite   \n",
              "3  Montreal        45.5017        -73.5673           Tunnel Espresso   \n",
              "4  Montreal        45.5017        -73.5673               Il Focolaio   \n",
              "\n",
              "   Venue Latitude  Venue Longitude Venue Category  \n",
              "0       45.500730       -73.568971     Steakhouse  \n",
              "1       45.500000       -73.565269    Music Venue  \n",
              "2       45.503045       -73.567888     Taco Place  \n",
              "3       45.502167       -73.569954    Coffee Shop  \n",
              "4       45.504009       -73.568213    Pizza Place  "
            ]
          },
          "metadata": {
            "tags": []
          },
          "execution_count": 33
        }
      ]
    },
    {
      "metadata": {
        "colab_type": "code",
        "id": "9SEfVPdBkzzh",
        "outputId": "f69f87ed-ce50-48b8-dc94-8eb402c44101",
        "colab": {
          "base_uri": "https://localhost:8080/",
          "height": 34
        }
      },
      "cell_type": "code",
      "source": [
        "city_venues.shape"
      ],
      "execution_count": 0,
      "outputs": [
        {
          "output_type": "execute_result",
          "data": {
            "text/plain": [
              "(1100, 7)"
            ]
          },
          "metadata": {
            "tags": []
          },
          "execution_count": 34
        }
      ]
    },
    {
      "metadata": {
        "colab_type": "code",
        "id": "WogMrbZAldSQ",
        "outputId": "a46e5165-a36a-4b66-c999-8e718fcf389b",
        "colab": {
          "base_uri": "https://localhost:8080/",
          "height": 34
        }
      },
      "cell_type": "code",
      "source": [
        "# Let's find out how many unique categories can be curated from all the returned venues\n",
        "print('There are {} uniques categories.'.format(len(city_venues['Venue Category'].unique())))"
      ],
      "execution_count": 0,
      "outputs": [
        {
          "output_type": "stream",
          "text": [
            "There are 204 uniques categories.\n"
          ],
          "name": "stdout"
        }
      ]
    },
    {
      "metadata": {
        "colab_type": "code",
        "id": "Mi6rche-02jc",
        "outputId": "91b49bd3-ea53-4980-f4b2-ce10a96ba9f0",
        "colab": {
          "base_uri": "https://localhost:8080/",
          "height": 221
        }
      },
      "cell_type": "code",
      "source": [
        "city_venues.groupby(['city']).size()"
      ],
      "execution_count": 0,
      "outputs": [
        {
          "output_type": "execute_result",
          "data": {
            "text/plain": [
              "city\n",
              "Calgary        100\n",
              "Dallas         100\n",
              "Denver         100\n",
              "Houston        100\n",
              "Los Angeles    100\n",
              "Miami          100\n",
              "Montreal       100\n",
              "New York       100\n",
              "Toronto        100\n",
              "Vancouver      100\n",
              "Washington     100\n",
              "dtype: int64"
            ]
          },
          "metadata": {
            "tags": []
          },
          "execution_count": 36
        }
      ]
    },
    {
      "metadata": {
        "colab_type": "text",
        "id": "P9thZXYBDKIg"
      },
      "cell_type": "markdown",
      "source": [
        "## Data Wrangling"
      ]
    },
    {
      "metadata": {
        "id": "jtrKgBCzOYxd",
        "colab_type": "code",
        "colab": {}
      },
      "cell_type": "code",
      "source": [
        "# Map Vanue Category \"Cafe\" to the english equivalent\n",
        "city_venues.replace('Café', 'Coffee Shop', inplace=True)\n",
        "# city_venues.head()"
      ],
      "execution_count": 0,
      "outputs": []
    },
    {
      "metadata": {
        "colab_type": "text",
        "id": "Ugf0BUaClnXR"
      },
      "cell_type": "markdown",
      "source": [
        "## Onehot encoding"
      ]
    },
    {
      "metadata": {
        "colab_type": "code",
        "id": "3o6mIkM1C2rl",
        "outputId": "f14a2293-ede9-43d6-8a68-2eda31a7bb0f",
        "colab": {
          "base_uri": "https://localhost:8080/",
          "height": 287
        }
      },
      "cell_type": "code",
      "source": [
        "# one hot encoding\n",
        "venues_onehot = pd.get_dummies(city_venues[['Venue Category']], prefix=\"\", prefix_sep=\"\")\n",
        "\n",
        "# venues_onehot.to_csv('venues_onehot.csv')\n",
        "# venues_onehot.head()\n",
        "venues_onehot.shape\n"
      ],
      "execution_count": 0,
      "outputs": [
        {
          "output_type": "execute_result",
          "data": {
            "text/plain": [
              "(1100, 203)"
            ]
          },
          "metadata": {
            "tags": []
          },
          "execution_count": 38
        }
      ]
    },
    {
      "metadata": {
        "id": "1pVnN3GAOYxq",
        "colab_type": "code",
        "colab": {}
      },
      "cell_type": "code",
      "source": [
        "# Hotel is one of the most frequent category and is excluded since the \n",
        "# stakeholder is not interrested staying at the hotel but move in the location\n",
        "\n",
        "venues_onehot.drop('Hotel',1, inplace=True)\n",
        "# venues_onehot.shape"
      ],
      "execution_count": 0,
      "outputs": []
    },
    {
      "metadata": {
        "colab_type": "code",
        "id": "e0rVunmznEqT",
        "outputId": "5d2ec0fb-0c05-4305-ffb2-03954f8958a5",
        "colab": {
          "base_uri": "https://localhost:8080/",
          "height": 153
        }
      },
      "cell_type": "code",
      "source": [
        "venues_onehot.columns"
      ],
      "execution_count": 0,
      "outputs": [
        {
          "output_type": "execute_result",
          "data": {
            "text/plain": [
              "Index(['American Restaurant', 'Antique Shop', 'Aquarium', 'Arcade',\n",
              "       'Argentinian Restaurant', 'Art Gallery', 'Art Museum',\n",
              "       'Arts & Crafts Store', 'Asian Restaurant', 'Athletics & Sports',\n",
              "       ...\n",
              "       'Turkish Restaurant', 'Vegetarian / Vegan Restaurant',\n",
              "       'Vietnamese Restaurant', 'Whisky Bar', 'Wine Bar', 'Wine Shop',\n",
              "       'Wings Joint', 'Women's Store', 'Yoga Studio', 'Yoshoku Restaurant'],\n",
              "      dtype='object', length=202)"
            ]
          },
          "metadata": {
            "tags": []
          },
          "execution_count": 40
        }
      ]
    },
    {
      "metadata": {
        "colab_type": "code",
        "id": "huNtMALpndY5",
        "outputId": "079e6448-f9c7-4c3f-903c-397d4f32f379",
        "colab": {
          "base_uri": "https://localhost:8080/",
          "height": 34
        }
      },
      "cell_type": "code",
      "source": [
        "venues_onehot.shape"
      ],
      "execution_count": 0,
      "outputs": [
        {
          "output_type": "execute_result",
          "data": {
            "text/plain": [
              "(1100, 202)"
            ]
          },
          "metadata": {
            "tags": []
          },
          "execution_count": 41
        }
      ]
    },
    {
      "metadata": {
        "colab_type": "code",
        "id": "zqxsD4JIn7bz",
        "outputId": "9de0cfa0-d97c-48e1-cff1-0307b0cfcc56",
        "colab": {
          "base_uri": "https://localhost:8080/",
          "height": 34
        }
      },
      "cell_type": "code",
      "source": [
        "# Merging the onehot with the city information\n",
        "city_onehot = city_venues.join(venues_onehot)\n",
        "city_onehot.drop(['city Latitude', 'city Longitude','Venue Latitude', 'Venue Longitude'] ,1, inplace=True)\n",
        "# city_onehot.to_csv('city _onehot.csv')\n",
        "city_onehot.shape"
      ],
      "execution_count": 0,
      "outputs": [
        {
          "output_type": "execute_result",
          "data": {
            "text/plain": [
              "(1100, 205)"
            ]
          },
          "metadata": {
            "tags": []
          },
          "execution_count": 42
        }
      ]
    },
    {
      "metadata": {
        "colab_type": "code",
        "id": "2J2SWVul6CkE",
        "outputId": "d446a053-11b6-4120-ab49-70bb05f2ad7a",
        "colab": {
          "base_uri": "https://localhost:8080/",
          "height": 355
        }
      },
      "cell_type": "code",
      "source": [
        "city_onehot.head()"
      ],
      "execution_count": 0,
      "outputs": [
        {
          "output_type": "execute_result",
          "data": {
            "text/html": [
              "<div>\n",
              "<style scoped>\n",
              "    .dataframe tbody tr th:only-of-type {\n",
              "        vertical-align: middle;\n",
              "    }\n",
              "\n",
              "    .dataframe tbody tr th {\n",
              "        vertical-align: top;\n",
              "    }\n",
              "\n",
              "    .dataframe thead th {\n",
              "        text-align: right;\n",
              "    }\n",
              "</style>\n",
              "<table border=\"1\" class=\"dataframe\">\n",
              "  <thead>\n",
              "    <tr style=\"text-align: right;\">\n",
              "      <th></th>\n",
              "      <th>city</th>\n",
              "      <th>Venue</th>\n",
              "      <th>Venue Category</th>\n",
              "      <th>American Restaurant</th>\n",
              "      <th>Antique Shop</th>\n",
              "      <th>Aquarium</th>\n",
              "      <th>Arcade</th>\n",
              "      <th>Argentinian Restaurant</th>\n",
              "      <th>Art Gallery</th>\n",
              "      <th>Art Museum</th>\n",
              "      <th>...</th>\n",
              "      <th>Turkish Restaurant</th>\n",
              "      <th>Vegetarian / Vegan Restaurant</th>\n",
              "      <th>Vietnamese Restaurant</th>\n",
              "      <th>Whisky Bar</th>\n",
              "      <th>Wine Bar</th>\n",
              "      <th>Wine Shop</th>\n",
              "      <th>Wings Joint</th>\n",
              "      <th>Women's Store</th>\n",
              "      <th>Yoga Studio</th>\n",
              "      <th>Yoshoku Restaurant</th>\n",
              "    </tr>\n",
              "  </thead>\n",
              "  <tbody>\n",
              "    <tr>\n",
              "      <th>0</th>\n",
              "      <td>Montreal</td>\n",
              "      <td>The Keg Steakhouse &amp; Bar</td>\n",
              "      <td>Steakhouse</td>\n",
              "      <td>0</td>\n",
              "      <td>0</td>\n",
              "      <td>0</td>\n",
              "      <td>0</td>\n",
              "      <td>0</td>\n",
              "      <td>0</td>\n",
              "      <td>0</td>\n",
              "      <td>...</td>\n",
              "      <td>0</td>\n",
              "      <td>0</td>\n",
              "      <td>0</td>\n",
              "      <td>0</td>\n",
              "      <td>0</td>\n",
              "      <td>0</td>\n",
              "      <td>0</td>\n",
              "      <td>0</td>\n",
              "      <td>0</td>\n",
              "      <td>0</td>\n",
              "    </tr>\n",
              "    <tr>\n",
              "      <th>1</th>\n",
              "      <td>Montreal</td>\n",
              "      <td>96,9 CKOI</td>\n",
              "      <td>Music Venue</td>\n",
              "      <td>0</td>\n",
              "      <td>0</td>\n",
              "      <td>0</td>\n",
              "      <td>0</td>\n",
              "      <td>0</td>\n",
              "      <td>0</td>\n",
              "      <td>0</td>\n",
              "      <td>...</td>\n",
              "      <td>0</td>\n",
              "      <td>0</td>\n",
              "      <td>0</td>\n",
              "      <td>0</td>\n",
              "      <td>0</td>\n",
              "      <td>0</td>\n",
              "      <td>0</td>\n",
              "      <td>0</td>\n",
              "      <td>0</td>\n",
              "      <td>0</td>\n",
              "    </tr>\n",
              "    <tr>\n",
              "      <th>2</th>\n",
              "      <td>Montreal</td>\n",
              "      <td>Escondite</td>\n",
              "      <td>Taco Place</td>\n",
              "      <td>0</td>\n",
              "      <td>0</td>\n",
              "      <td>0</td>\n",
              "      <td>0</td>\n",
              "      <td>0</td>\n",
              "      <td>0</td>\n",
              "      <td>0</td>\n",
              "      <td>...</td>\n",
              "      <td>0</td>\n",
              "      <td>0</td>\n",
              "      <td>0</td>\n",
              "      <td>0</td>\n",
              "      <td>0</td>\n",
              "      <td>0</td>\n",
              "      <td>0</td>\n",
              "      <td>0</td>\n",
              "      <td>0</td>\n",
              "      <td>0</td>\n",
              "    </tr>\n",
              "    <tr>\n",
              "      <th>3</th>\n",
              "      <td>Montreal</td>\n",
              "      <td>Tunnel Espresso</td>\n",
              "      <td>Coffee Shop</td>\n",
              "      <td>0</td>\n",
              "      <td>0</td>\n",
              "      <td>0</td>\n",
              "      <td>0</td>\n",
              "      <td>0</td>\n",
              "      <td>0</td>\n",
              "      <td>0</td>\n",
              "      <td>...</td>\n",
              "      <td>0</td>\n",
              "      <td>0</td>\n",
              "      <td>0</td>\n",
              "      <td>0</td>\n",
              "      <td>0</td>\n",
              "      <td>0</td>\n",
              "      <td>0</td>\n",
              "      <td>0</td>\n",
              "      <td>0</td>\n",
              "      <td>0</td>\n",
              "    </tr>\n",
              "    <tr>\n",
              "      <th>4</th>\n",
              "      <td>Montreal</td>\n",
              "      <td>Il Focolaio</td>\n",
              "      <td>Pizza Place</td>\n",
              "      <td>0</td>\n",
              "      <td>0</td>\n",
              "      <td>0</td>\n",
              "      <td>0</td>\n",
              "      <td>0</td>\n",
              "      <td>0</td>\n",
              "      <td>0</td>\n",
              "      <td>...</td>\n",
              "      <td>0</td>\n",
              "      <td>0</td>\n",
              "      <td>0</td>\n",
              "      <td>0</td>\n",
              "      <td>0</td>\n",
              "      <td>0</td>\n",
              "      <td>0</td>\n",
              "      <td>0</td>\n",
              "      <td>0</td>\n",
              "      <td>0</td>\n",
              "    </tr>\n",
              "  </tbody>\n",
              "</table>\n",
              "<p>5 rows × 205 columns</p>\n",
              "</div>"
            ],
            "text/plain": [
              "       city                     Venue Venue Category  American Restaurant  \\\n",
              "0  Montreal  The Keg Steakhouse & Bar     Steakhouse                    0   \n",
              "1  Montreal                 96,9 CKOI    Music Venue                    0   \n",
              "2  Montreal                 Escondite     Taco Place                    0   \n",
              "3  Montreal           Tunnel Espresso    Coffee Shop                    0   \n",
              "4  Montreal               Il Focolaio    Pizza Place                    0   \n",
              "\n",
              "   Antique Shop  Aquarium  Arcade  Argentinian Restaurant  Art Gallery  \\\n",
              "0             0         0       0                       0            0   \n",
              "1             0         0       0                       0            0   \n",
              "2             0         0       0                       0            0   \n",
              "3             0         0       0                       0            0   \n",
              "4             0         0       0                       0            0   \n",
              "\n",
              "   Art Museum         ...          Turkish Restaurant  \\\n",
              "0           0         ...                           0   \n",
              "1           0         ...                           0   \n",
              "2           0         ...                           0   \n",
              "3           0         ...                           0   \n",
              "4           0         ...                           0   \n",
              "\n",
              "   Vegetarian / Vegan Restaurant  Vietnamese Restaurant  Whisky Bar  Wine Bar  \\\n",
              "0                              0                      0           0         0   \n",
              "1                              0                      0           0         0   \n",
              "2                              0                      0           0         0   \n",
              "3                              0                      0           0         0   \n",
              "4                              0                      0           0         0   \n",
              "\n",
              "   Wine Shop  Wings Joint  Women's Store  Yoga Studio  Yoshoku Restaurant  \n",
              "0          0            0              0            0                   0  \n",
              "1          0            0              0            0                   0  \n",
              "2          0            0              0            0                   0  \n",
              "3          0            0              0            0                   0  \n",
              "4          0            0              0            0                   0  \n",
              "\n",
              "[5 rows x 205 columns]"
            ]
          },
          "metadata": {
            "tags": []
          },
          "execution_count": 43
        }
      ]
    },
    {
      "metadata": {
        "colab_type": "code",
        "id": "GogByFzJpGqQ",
        "outputId": "47d9c4d6-1340-4a1a-a590-bdb9f2ff0e26",
        "colab": {
          "base_uri": "https://localhost:8080/",
          "height": 442
        }
      },
      "cell_type": "code",
      "source": [
        "# Next, let's group rows by cities and by taking the mean of the frequency of occurrence of each category\n",
        "city_grouped = city_onehot.groupby(['city']).mean()\n",
        "city_grouped.reset_index(inplace=True)\n",
        "city_grouped.head(10)"
      ],
      "execution_count": 0,
      "outputs": [
        {
          "output_type": "execute_result",
          "data": {
            "text/html": [
              "<div>\n",
              "<style scoped>\n",
              "    .dataframe tbody tr th:only-of-type {\n",
              "        vertical-align: middle;\n",
              "    }\n",
              "\n",
              "    .dataframe tbody tr th {\n",
              "        vertical-align: top;\n",
              "    }\n",
              "\n",
              "    .dataframe thead th {\n",
              "        text-align: right;\n",
              "    }\n",
              "</style>\n",
              "<table border=\"1\" class=\"dataframe\">\n",
              "  <thead>\n",
              "    <tr style=\"text-align: right;\">\n",
              "      <th></th>\n",
              "      <th>city</th>\n",
              "      <th>American Restaurant</th>\n",
              "      <th>Antique Shop</th>\n",
              "      <th>Aquarium</th>\n",
              "      <th>Arcade</th>\n",
              "      <th>Argentinian Restaurant</th>\n",
              "      <th>Art Gallery</th>\n",
              "      <th>Art Museum</th>\n",
              "      <th>Arts &amp; Crafts Store</th>\n",
              "      <th>Asian Restaurant</th>\n",
              "      <th>...</th>\n",
              "      <th>Turkish Restaurant</th>\n",
              "      <th>Vegetarian / Vegan Restaurant</th>\n",
              "      <th>Vietnamese Restaurant</th>\n",
              "      <th>Whisky Bar</th>\n",
              "      <th>Wine Bar</th>\n",
              "      <th>Wine Shop</th>\n",
              "      <th>Wings Joint</th>\n",
              "      <th>Women's Store</th>\n",
              "      <th>Yoga Studio</th>\n",
              "      <th>Yoshoku Restaurant</th>\n",
              "    </tr>\n",
              "  </thead>\n",
              "  <tbody>\n",
              "    <tr>\n",
              "      <th>0</th>\n",
              "      <td>Calgary</td>\n",
              "      <td>0.03</td>\n",
              "      <td>0.00</td>\n",
              "      <td>0.00</td>\n",
              "      <td>0.0</td>\n",
              "      <td>0.00</td>\n",
              "      <td>0.00</td>\n",
              "      <td>0.00</td>\n",
              "      <td>0.00</td>\n",
              "      <td>0.00</td>\n",
              "      <td>...</td>\n",
              "      <td>0.0</td>\n",
              "      <td>0.01</td>\n",
              "      <td>0.02</td>\n",
              "      <td>0.00</td>\n",
              "      <td>0.01</td>\n",
              "      <td>0.00</td>\n",
              "      <td>0.00</td>\n",
              "      <td>0.00</td>\n",
              "      <td>0.02</td>\n",
              "      <td>0.00</td>\n",
              "    </tr>\n",
              "    <tr>\n",
              "      <th>1</th>\n",
              "      <td>Dallas</td>\n",
              "      <td>0.04</td>\n",
              "      <td>0.00</td>\n",
              "      <td>0.00</td>\n",
              "      <td>0.0</td>\n",
              "      <td>0.00</td>\n",
              "      <td>0.00</td>\n",
              "      <td>0.00</td>\n",
              "      <td>0.00</td>\n",
              "      <td>0.00</td>\n",
              "      <td>...</td>\n",
              "      <td>0.0</td>\n",
              "      <td>0.00</td>\n",
              "      <td>0.00</td>\n",
              "      <td>0.00</td>\n",
              "      <td>0.00</td>\n",
              "      <td>0.00</td>\n",
              "      <td>0.01</td>\n",
              "      <td>0.00</td>\n",
              "      <td>0.00</td>\n",
              "      <td>0.00</td>\n",
              "    </tr>\n",
              "    <tr>\n",
              "      <th>2</th>\n",
              "      <td>Denver</td>\n",
              "      <td>0.03</td>\n",
              "      <td>0.00</td>\n",
              "      <td>0.00</td>\n",
              "      <td>0.0</td>\n",
              "      <td>0.00</td>\n",
              "      <td>0.01</td>\n",
              "      <td>0.02</td>\n",
              "      <td>0.00</td>\n",
              "      <td>0.00</td>\n",
              "      <td>...</td>\n",
              "      <td>0.0</td>\n",
              "      <td>0.01</td>\n",
              "      <td>0.00</td>\n",
              "      <td>0.00</td>\n",
              "      <td>0.00</td>\n",
              "      <td>0.00</td>\n",
              "      <td>0.00</td>\n",
              "      <td>0.00</td>\n",
              "      <td>0.03</td>\n",
              "      <td>0.00</td>\n",
              "    </tr>\n",
              "    <tr>\n",
              "      <th>3</th>\n",
              "      <td>Houston</td>\n",
              "      <td>0.00</td>\n",
              "      <td>0.00</td>\n",
              "      <td>0.01</td>\n",
              "      <td>0.0</td>\n",
              "      <td>0.00</td>\n",
              "      <td>0.00</td>\n",
              "      <td>0.00</td>\n",
              "      <td>0.00</td>\n",
              "      <td>0.00</td>\n",
              "      <td>...</td>\n",
              "      <td>0.0</td>\n",
              "      <td>0.00</td>\n",
              "      <td>0.00</td>\n",
              "      <td>0.01</td>\n",
              "      <td>0.02</td>\n",
              "      <td>0.00</td>\n",
              "      <td>0.00</td>\n",
              "      <td>0.00</td>\n",
              "      <td>0.00</td>\n",
              "      <td>0.00</td>\n",
              "    </tr>\n",
              "    <tr>\n",
              "      <th>4</th>\n",
              "      <td>Los Angeles</td>\n",
              "      <td>0.01</td>\n",
              "      <td>0.00</td>\n",
              "      <td>0.00</td>\n",
              "      <td>0.0</td>\n",
              "      <td>0.00</td>\n",
              "      <td>0.02</td>\n",
              "      <td>0.02</td>\n",
              "      <td>0.01</td>\n",
              "      <td>0.00</td>\n",
              "      <td>...</td>\n",
              "      <td>0.0</td>\n",
              "      <td>0.00</td>\n",
              "      <td>0.00</td>\n",
              "      <td>0.00</td>\n",
              "      <td>0.00</td>\n",
              "      <td>0.00</td>\n",
              "      <td>0.00</td>\n",
              "      <td>0.00</td>\n",
              "      <td>0.00</td>\n",
              "      <td>0.01</td>\n",
              "    </tr>\n",
              "    <tr>\n",
              "      <th>5</th>\n",
              "      <td>Miami</td>\n",
              "      <td>0.02</td>\n",
              "      <td>0.00</td>\n",
              "      <td>0.00</td>\n",
              "      <td>0.0</td>\n",
              "      <td>0.03</td>\n",
              "      <td>0.00</td>\n",
              "      <td>0.00</td>\n",
              "      <td>0.00</td>\n",
              "      <td>0.01</td>\n",
              "      <td>...</td>\n",
              "      <td>0.0</td>\n",
              "      <td>0.00</td>\n",
              "      <td>0.00</td>\n",
              "      <td>0.00</td>\n",
              "      <td>0.00</td>\n",
              "      <td>0.00</td>\n",
              "      <td>0.00</td>\n",
              "      <td>0.00</td>\n",
              "      <td>0.01</td>\n",
              "      <td>0.00</td>\n",
              "    </tr>\n",
              "    <tr>\n",
              "      <th>6</th>\n",
              "      <td>Montreal</td>\n",
              "      <td>0.00</td>\n",
              "      <td>0.00</td>\n",
              "      <td>0.00</td>\n",
              "      <td>0.0</td>\n",
              "      <td>0.00</td>\n",
              "      <td>0.00</td>\n",
              "      <td>0.00</td>\n",
              "      <td>0.01</td>\n",
              "      <td>0.00</td>\n",
              "      <td>...</td>\n",
              "      <td>0.0</td>\n",
              "      <td>0.01</td>\n",
              "      <td>0.00</td>\n",
              "      <td>0.00</td>\n",
              "      <td>0.00</td>\n",
              "      <td>0.00</td>\n",
              "      <td>0.00</td>\n",
              "      <td>0.00</td>\n",
              "      <td>0.01</td>\n",
              "      <td>0.00</td>\n",
              "    </tr>\n",
              "    <tr>\n",
              "      <th>7</th>\n",
              "      <td>New York</td>\n",
              "      <td>0.02</td>\n",
              "      <td>0.01</td>\n",
              "      <td>0.00</td>\n",
              "      <td>0.0</td>\n",
              "      <td>0.00</td>\n",
              "      <td>0.00</td>\n",
              "      <td>0.00</td>\n",
              "      <td>0.00</td>\n",
              "      <td>0.01</td>\n",
              "      <td>...</td>\n",
              "      <td>0.0</td>\n",
              "      <td>0.01</td>\n",
              "      <td>0.00</td>\n",
              "      <td>0.00</td>\n",
              "      <td>0.00</td>\n",
              "      <td>0.01</td>\n",
              "      <td>0.00</td>\n",
              "      <td>0.01</td>\n",
              "      <td>0.02</td>\n",
              "      <td>0.00</td>\n",
              "    </tr>\n",
              "    <tr>\n",
              "      <th>8</th>\n",
              "      <td>Toronto</td>\n",
              "      <td>0.05</td>\n",
              "      <td>0.00</td>\n",
              "      <td>0.00</td>\n",
              "      <td>0.0</td>\n",
              "      <td>0.00</td>\n",
              "      <td>0.00</td>\n",
              "      <td>0.01</td>\n",
              "      <td>0.01</td>\n",
              "      <td>0.02</td>\n",
              "      <td>...</td>\n",
              "      <td>0.0</td>\n",
              "      <td>0.01</td>\n",
              "      <td>0.00</td>\n",
              "      <td>0.00</td>\n",
              "      <td>0.00</td>\n",
              "      <td>0.00</td>\n",
              "      <td>0.00</td>\n",
              "      <td>0.01</td>\n",
              "      <td>0.00</td>\n",
              "      <td>0.00</td>\n",
              "    </tr>\n",
              "    <tr>\n",
              "      <th>9</th>\n",
              "      <td>Vancouver</td>\n",
              "      <td>0.02</td>\n",
              "      <td>0.00</td>\n",
              "      <td>0.00</td>\n",
              "      <td>0.0</td>\n",
              "      <td>0.00</td>\n",
              "      <td>0.01</td>\n",
              "      <td>0.00</td>\n",
              "      <td>0.00</td>\n",
              "      <td>0.00</td>\n",
              "      <td>...</td>\n",
              "      <td>0.0</td>\n",
              "      <td>0.00</td>\n",
              "      <td>0.00</td>\n",
              "      <td>0.00</td>\n",
              "      <td>0.01</td>\n",
              "      <td>0.00</td>\n",
              "      <td>0.00</td>\n",
              "      <td>0.00</td>\n",
              "      <td>0.01</td>\n",
              "      <td>0.00</td>\n",
              "    </tr>\n",
              "  </tbody>\n",
              "</table>\n",
              "<p>10 rows × 203 columns</p>\n",
              "</div>"
            ],
            "text/plain": [
              "          city  American Restaurant  Antique Shop  Aquarium  Arcade  \\\n",
              "0      Calgary                 0.03          0.00      0.00     0.0   \n",
              "1       Dallas                 0.04          0.00      0.00     0.0   \n",
              "2       Denver                 0.03          0.00      0.00     0.0   \n",
              "3      Houston                 0.00          0.00      0.01     0.0   \n",
              "4  Los Angeles                 0.01          0.00      0.00     0.0   \n",
              "5        Miami                 0.02          0.00      0.00     0.0   \n",
              "6     Montreal                 0.00          0.00      0.00     0.0   \n",
              "7     New York                 0.02          0.01      0.00     0.0   \n",
              "8      Toronto                 0.05          0.00      0.00     0.0   \n",
              "9    Vancouver                 0.02          0.00      0.00     0.0   \n",
              "\n",
              "   Argentinian Restaurant  Art Gallery  Art Museum  Arts & Crafts Store  \\\n",
              "0                    0.00         0.00        0.00                 0.00   \n",
              "1                    0.00         0.00        0.00                 0.00   \n",
              "2                    0.00         0.01        0.02                 0.00   \n",
              "3                    0.00         0.00        0.00                 0.00   \n",
              "4                    0.00         0.02        0.02                 0.01   \n",
              "5                    0.03         0.00        0.00                 0.00   \n",
              "6                    0.00         0.00        0.00                 0.01   \n",
              "7                    0.00         0.00        0.00                 0.00   \n",
              "8                    0.00         0.00        0.01                 0.01   \n",
              "9                    0.00         0.01        0.00                 0.00   \n",
              "\n",
              "   Asian Restaurant         ...          Turkish Restaurant  \\\n",
              "0              0.00         ...                         0.0   \n",
              "1              0.00         ...                         0.0   \n",
              "2              0.00         ...                         0.0   \n",
              "3              0.00         ...                         0.0   \n",
              "4              0.00         ...                         0.0   \n",
              "5              0.01         ...                         0.0   \n",
              "6              0.00         ...                         0.0   \n",
              "7              0.01         ...                         0.0   \n",
              "8              0.02         ...                         0.0   \n",
              "9              0.00         ...                         0.0   \n",
              "\n",
              "   Vegetarian / Vegan Restaurant  Vietnamese Restaurant  Whisky Bar  Wine Bar  \\\n",
              "0                           0.01                   0.02        0.00      0.01   \n",
              "1                           0.00                   0.00        0.00      0.00   \n",
              "2                           0.01                   0.00        0.00      0.00   \n",
              "3                           0.00                   0.00        0.01      0.02   \n",
              "4                           0.00                   0.00        0.00      0.00   \n",
              "5                           0.00                   0.00        0.00      0.00   \n",
              "6                           0.01                   0.00        0.00      0.00   \n",
              "7                           0.01                   0.00        0.00      0.00   \n",
              "8                           0.01                   0.00        0.00      0.00   \n",
              "9                           0.00                   0.00        0.00      0.01   \n",
              "\n",
              "   Wine Shop  Wings Joint  Women's Store  Yoga Studio  Yoshoku Restaurant  \n",
              "0       0.00         0.00           0.00         0.02                0.00  \n",
              "1       0.00         0.01           0.00         0.00                0.00  \n",
              "2       0.00         0.00           0.00         0.03                0.00  \n",
              "3       0.00         0.00           0.00         0.00                0.00  \n",
              "4       0.00         0.00           0.00         0.00                0.01  \n",
              "5       0.00         0.00           0.00         0.01                0.00  \n",
              "6       0.00         0.00           0.00         0.01                0.00  \n",
              "7       0.01         0.00           0.01         0.02                0.00  \n",
              "8       0.00         0.00           0.01         0.00                0.00  \n",
              "9       0.00         0.00           0.00         0.01                0.00  \n",
              "\n",
              "[10 rows x 203 columns]"
            ]
          },
          "metadata": {
            "tags": []
          },
          "execution_count": 44
        }
      ]
    },
    {
      "metadata": {
        "colab_type": "code",
        "id": "KE6Lf7ca29tD",
        "outputId": "03694fc7-de55-4df1-fd11-3fe10490f734",
        "colab": {
          "base_uri": "https://localhost:8080/",
          "height": 34
        }
      },
      "cell_type": "code",
      "source": [
        "city_grouped.shape"
      ],
      "execution_count": 0,
      "outputs": [
        {
          "output_type": "execute_result",
          "data": {
            "text/plain": [
              "(11, 203)"
            ]
          },
          "metadata": {
            "tags": []
          },
          "execution_count": 45
        }
      ]
    },
    {
      "metadata": {
        "colab_type": "code",
        "id": "xbTKw_5K4PCO",
        "colab": {}
      },
      "cell_type": "code",
      "source": [
        "city_grouped.to_csv('city_grouped.csv')"
      ],
      "execution_count": 0,
      "outputs": []
    },
    {
      "metadata": {
        "colab_type": "text",
        "id": "hJI0WvBLZzVh"
      },
      "cell_type": "markdown",
      "source": [
        "## K-Means Analysis"
      ]
    },
    {
      "metadata": {
        "colab_type": "text",
        "id": "56DpSjQ3a1P4"
      },
      "cell_type": "markdown",
      "source": [
        "### Model fitting"
      ]
    },
    {
      "metadata": {
        "colab_type": "code",
        "id": "WzLnmIWYZ89w",
        "outputId": "7d76c2c6-7902-4510-dd63-eece1821bcf7",
        "colab": {
          "base_uri": "https://localhost:8080/",
          "height": 34
        }
      },
      "cell_type": "code",
      "source": [
        "# set number of clusters\n",
        "kclusters = 3\n",
        "\n",
        "city_grouped_clustering = city_grouped.drop(['city'], 1)\n",
        "\n",
        "# run k-means clustering\n",
        "kmeans = KMeans(n_clusters=kclusters, random_state=0).fit(city_grouped_clustering)\n",
        "\n",
        "# check cluster labels generated for each row in the dataframe\n",
        "kmeans.labels_[0:10] "
      ],
      "execution_count": 0,
      "outputs": [
        {
          "output_type": "execute_result",
          "data": {
            "text/plain": [
              "array([0, 0, 1, 1, 0, 2, 0, 1, 0, 2], dtype=int32)"
            ]
          },
          "metadata": {
            "tags": []
          },
          "execution_count": 47
        }
      ]
    },
    {
      "metadata": {
        "colab_type": "code",
        "id": "VX-xq1bjc5_0",
        "outputId": "6927962c-d4ab-4cc6-d6d8-4dbe2e2c313d",
        "colab": {
          "base_uri": "https://localhost:8080/",
          "height": 287
        }
      },
      "cell_type": "code",
      "source": [
        "# Merge back the labels\n",
        "\n",
        "city_clusters = city_grouped\n",
        "\n",
        "# add clustering labels\n",
        "city_clusters['Cluster Labels'] = kmeans.labels_\n",
        "\n",
        "# add lat long\n",
        "city_clusters = pd.merge(city_df, city_clusters, left_on='name', right_on='city')\n",
        "city_clusters.drop('name', 1, inplace=True)\n",
        "\n",
        "city_clusters.head()"
      ],
      "execution_count": 0,
      "outputs": [
        {
          "output_type": "execute_result",
          "data": {
            "text/html": [
              "<div>\n",
              "<style scoped>\n",
              "    .dataframe tbody tr th:only-of-type {\n",
              "        vertical-align: middle;\n",
              "    }\n",
              "\n",
              "    .dataframe tbody tr th {\n",
              "        vertical-align: top;\n",
              "    }\n",
              "\n",
              "    .dataframe thead th {\n",
              "        text-align: right;\n",
              "    }\n",
              "</style>\n",
              "<table border=\"1\" class=\"dataframe\">\n",
              "  <thead>\n",
              "    <tr style=\"text-align: right;\">\n",
              "      <th></th>\n",
              "      <th>lat</th>\n",
              "      <th>long</th>\n",
              "      <th>city</th>\n",
              "      <th>American Restaurant</th>\n",
              "      <th>Antique Shop</th>\n",
              "      <th>Aquarium</th>\n",
              "      <th>Arcade</th>\n",
              "      <th>Argentinian Restaurant</th>\n",
              "      <th>Art Gallery</th>\n",
              "      <th>Art Museum</th>\n",
              "      <th>...</th>\n",
              "      <th>Vegetarian / Vegan Restaurant</th>\n",
              "      <th>Vietnamese Restaurant</th>\n",
              "      <th>Whisky Bar</th>\n",
              "      <th>Wine Bar</th>\n",
              "      <th>Wine Shop</th>\n",
              "      <th>Wings Joint</th>\n",
              "      <th>Women's Store</th>\n",
              "      <th>Yoga Studio</th>\n",
              "      <th>Yoshoku Restaurant</th>\n",
              "      <th>Cluster Labels</th>\n",
              "    </tr>\n",
              "  </thead>\n",
              "  <tbody>\n",
              "    <tr>\n",
              "      <th>0</th>\n",
              "      <td>45.5017</td>\n",
              "      <td>-73.5673</td>\n",
              "      <td>Montreal</td>\n",
              "      <td>0.00</td>\n",
              "      <td>0.00</td>\n",
              "      <td>0.0</td>\n",
              "      <td>0.0</td>\n",
              "      <td>0.0</td>\n",
              "      <td>0.00</td>\n",
              "      <td>0.00</td>\n",
              "      <td>...</td>\n",
              "      <td>0.01</td>\n",
              "      <td>0.00</td>\n",
              "      <td>0.0</td>\n",
              "      <td>0.00</td>\n",
              "      <td>0.00</td>\n",
              "      <td>0.0</td>\n",
              "      <td>0.00</td>\n",
              "      <td>0.01</td>\n",
              "      <td>0.0</td>\n",
              "      <td>0</td>\n",
              "    </tr>\n",
              "    <tr>\n",
              "      <th>1</th>\n",
              "      <td>43.6532</td>\n",
              "      <td>-79.3832</td>\n",
              "      <td>Toronto</td>\n",
              "      <td>0.05</td>\n",
              "      <td>0.00</td>\n",
              "      <td>0.0</td>\n",
              "      <td>0.0</td>\n",
              "      <td>0.0</td>\n",
              "      <td>0.00</td>\n",
              "      <td>0.01</td>\n",
              "      <td>...</td>\n",
              "      <td>0.01</td>\n",
              "      <td>0.00</td>\n",
              "      <td>0.0</td>\n",
              "      <td>0.00</td>\n",
              "      <td>0.00</td>\n",
              "      <td>0.0</td>\n",
              "      <td>0.01</td>\n",
              "      <td>0.00</td>\n",
              "      <td>0.0</td>\n",
              "      <td>0</td>\n",
              "    </tr>\n",
              "    <tr>\n",
              "      <th>2</th>\n",
              "      <td>49.2827</td>\n",
              "      <td>-123.1207</td>\n",
              "      <td>Vancouver</td>\n",
              "      <td>0.02</td>\n",
              "      <td>0.00</td>\n",
              "      <td>0.0</td>\n",
              "      <td>0.0</td>\n",
              "      <td>0.0</td>\n",
              "      <td>0.01</td>\n",
              "      <td>0.00</td>\n",
              "      <td>...</td>\n",
              "      <td>0.00</td>\n",
              "      <td>0.00</td>\n",
              "      <td>0.0</td>\n",
              "      <td>0.01</td>\n",
              "      <td>0.00</td>\n",
              "      <td>0.0</td>\n",
              "      <td>0.00</td>\n",
              "      <td>0.01</td>\n",
              "      <td>0.0</td>\n",
              "      <td>2</td>\n",
              "    </tr>\n",
              "    <tr>\n",
              "      <th>3</th>\n",
              "      <td>51.0486</td>\n",
              "      <td>-114.0708</td>\n",
              "      <td>Calgary</td>\n",
              "      <td>0.03</td>\n",
              "      <td>0.00</td>\n",
              "      <td>0.0</td>\n",
              "      <td>0.0</td>\n",
              "      <td>0.0</td>\n",
              "      <td>0.00</td>\n",
              "      <td>0.00</td>\n",
              "      <td>...</td>\n",
              "      <td>0.01</td>\n",
              "      <td>0.02</td>\n",
              "      <td>0.0</td>\n",
              "      <td>0.01</td>\n",
              "      <td>0.00</td>\n",
              "      <td>0.0</td>\n",
              "      <td>0.00</td>\n",
              "      <td>0.02</td>\n",
              "      <td>0.0</td>\n",
              "      <td>0</td>\n",
              "    </tr>\n",
              "    <tr>\n",
              "      <th>4</th>\n",
              "      <td>40.7128</td>\n",
              "      <td>-74.0060</td>\n",
              "      <td>New York</td>\n",
              "      <td>0.02</td>\n",
              "      <td>0.01</td>\n",
              "      <td>0.0</td>\n",
              "      <td>0.0</td>\n",
              "      <td>0.0</td>\n",
              "      <td>0.00</td>\n",
              "      <td>0.00</td>\n",
              "      <td>...</td>\n",
              "      <td>0.01</td>\n",
              "      <td>0.00</td>\n",
              "      <td>0.0</td>\n",
              "      <td>0.00</td>\n",
              "      <td>0.01</td>\n",
              "      <td>0.0</td>\n",
              "      <td>0.01</td>\n",
              "      <td>0.02</td>\n",
              "      <td>0.0</td>\n",
              "      <td>1</td>\n",
              "    </tr>\n",
              "  </tbody>\n",
              "</table>\n",
              "<p>5 rows × 206 columns</p>\n",
              "</div>"
            ],
            "text/plain": [
              "       lat      long       city  American Restaurant  Antique Shop  Aquarium  \\\n",
              "0  45.5017  -73.5673   Montreal                 0.00          0.00       0.0   \n",
              "1  43.6532  -79.3832    Toronto                 0.05          0.00       0.0   \n",
              "2  49.2827 -123.1207  Vancouver                 0.02          0.00       0.0   \n",
              "3  51.0486 -114.0708    Calgary                 0.03          0.00       0.0   \n",
              "4  40.7128  -74.0060   New York                 0.02          0.01       0.0   \n",
              "\n",
              "   Arcade  Argentinian Restaurant  Art Gallery  Art Museum       ...        \\\n",
              "0     0.0                     0.0         0.00        0.00       ...         \n",
              "1     0.0                     0.0         0.00        0.01       ...         \n",
              "2     0.0                     0.0         0.01        0.00       ...         \n",
              "3     0.0                     0.0         0.00        0.00       ...         \n",
              "4     0.0                     0.0         0.00        0.00       ...         \n",
              "\n",
              "   Vegetarian / Vegan Restaurant  Vietnamese Restaurant  Whisky Bar  Wine Bar  \\\n",
              "0                           0.01                   0.00         0.0      0.00   \n",
              "1                           0.01                   0.00         0.0      0.00   \n",
              "2                           0.00                   0.00         0.0      0.01   \n",
              "3                           0.01                   0.02         0.0      0.01   \n",
              "4                           0.01                   0.00         0.0      0.00   \n",
              "\n",
              "   Wine Shop  Wings Joint  Women's Store  Yoga Studio  Yoshoku Restaurant  \\\n",
              "0       0.00          0.0           0.00         0.01                 0.0   \n",
              "1       0.00          0.0           0.01         0.00                 0.0   \n",
              "2       0.00          0.0           0.00         0.01                 0.0   \n",
              "3       0.00          0.0           0.00         0.02                 0.0   \n",
              "4       0.01          0.0           0.01         0.02                 0.0   \n",
              "\n",
              "   Cluster Labels  \n",
              "0               0  \n",
              "1               0  \n",
              "2               2  \n",
              "3               0  \n",
              "4               1  \n",
              "\n",
              "[5 rows x 206 columns]"
            ]
          },
          "metadata": {
            "tags": []
          },
          "execution_count": 48
        }
      ]
    },
    {
      "metadata": {
        "id": "Ky-Oa9yjOYyU",
        "colab_type": "text"
      },
      "cell_type": "markdown",
      "source": [
        "### Understanding the clusters composition "
      ]
    },
    {
      "metadata": {
        "id": "AykE1BhXOYyV",
        "colab_type": "code",
        "colab": {},
        "outputId": "533544dc-0ce0-48fa-d65f-a09c3d3f9b59"
      },
      "cell_type": "code",
      "source": [
        "# Visualaizing Cluster Groups\n",
        "[print(row['Cluster Labels'], row['city']) \n",
        "                 for idx, row in city_clusters.sort_values('Cluster Labels').iterrows()]"
      ],
      "execution_count": 0,
      "outputs": [
        {
          "output_type": "stream",
          "text": [
            "0 Montreal\n",
            "0 Toronto\n",
            "0 Calgary\n",
            "0 Dallas\n",
            "0 Los Angeles\n",
            "1 New York\n",
            "1 Denver\n",
            "1 Houston\n",
            "1 Washington\n",
            "2 Vancouver\n",
            "2 Miami\n"
          ],
          "name": "stdout"
        },
        {
          "output_type": "execute_result",
          "data": {
            "text/plain": [
              "[None, None, None, None, None, None, None, None, None, None, None]"
            ]
          },
          "metadata": {
            "tags": []
          },
          "execution_count": 49
        }
      ]
    },
    {
      "metadata": {
        "id": "2kevKRh3OYyY",
        "colab_type": "code",
        "colab": {},
        "outputId": "e58aac0d-8a98-478c-b775-b1aaa9565521"
      },
      "cell_type": "code",
      "source": [
        "# Visualaizing Cluster Groups\n",
        "city_clusters_t = city_clusters.sort_values('Cluster Labels', ascending=False)\n",
        "city_clusters_t2 = city_clusters_t.loc[:,'city':'Cluster Labels']\n",
        "city_clusters_t2  = city_clusters_t2.transpose()\n",
        "city_clusters_t2.columns = city_clusters_t2.loc['city']\n",
        "city_clusters_t2.drop('city', inplace=True)\n",
        "city_clusters_t2.tail()"
      ],
      "execution_count": 0,
      "outputs": [
        {
          "output_type": "execute_result",
          "data": {
            "text/html": [
              "<div>\n",
              "<style scoped>\n",
              "    .dataframe tbody tr th:only-of-type {\n",
              "        vertical-align: middle;\n",
              "    }\n",
              "\n",
              "    .dataframe tbody tr th {\n",
              "        vertical-align: top;\n",
              "    }\n",
              "\n",
              "    .dataframe thead th {\n",
              "        text-align: right;\n",
              "    }\n",
              "</style>\n",
              "<table border=\"1\" class=\"dataframe\">\n",
              "  <thead>\n",
              "    <tr style=\"text-align: right;\">\n",
              "      <th>city</th>\n",
              "      <th>Vancouver</th>\n",
              "      <th>Miami</th>\n",
              "      <th>New York</th>\n",
              "      <th>Denver</th>\n",
              "      <th>Houston</th>\n",
              "      <th>Washington</th>\n",
              "      <th>Montreal</th>\n",
              "      <th>Toronto</th>\n",
              "      <th>Calgary</th>\n",
              "      <th>Dallas</th>\n",
              "      <th>Los Angeles</th>\n",
              "    </tr>\n",
              "  </thead>\n",
              "  <tbody>\n",
              "    <tr>\n",
              "      <th>Wings Joint</th>\n",
              "      <td>0</td>\n",
              "      <td>0</td>\n",
              "      <td>0</td>\n",
              "      <td>0</td>\n",
              "      <td>0</td>\n",
              "      <td>0</td>\n",
              "      <td>0</td>\n",
              "      <td>0</td>\n",
              "      <td>0</td>\n",
              "      <td>0.01</td>\n",
              "      <td>0</td>\n",
              "    </tr>\n",
              "    <tr>\n",
              "      <th>Women's Store</th>\n",
              "      <td>0</td>\n",
              "      <td>0</td>\n",
              "      <td>0.01</td>\n",
              "      <td>0</td>\n",
              "      <td>0</td>\n",
              "      <td>0</td>\n",
              "      <td>0</td>\n",
              "      <td>0.01</td>\n",
              "      <td>0</td>\n",
              "      <td>0</td>\n",
              "      <td>0</td>\n",
              "    </tr>\n",
              "    <tr>\n",
              "      <th>Yoga Studio</th>\n",
              "      <td>0.01</td>\n",
              "      <td>0.01</td>\n",
              "      <td>0.02</td>\n",
              "      <td>0.03</td>\n",
              "      <td>0</td>\n",
              "      <td>0.03</td>\n",
              "      <td>0.01</td>\n",
              "      <td>0</td>\n",
              "      <td>0.02</td>\n",
              "      <td>0</td>\n",
              "      <td>0</td>\n",
              "    </tr>\n",
              "    <tr>\n",
              "      <th>Yoshoku Restaurant</th>\n",
              "      <td>0</td>\n",
              "      <td>0</td>\n",
              "      <td>0</td>\n",
              "      <td>0</td>\n",
              "      <td>0</td>\n",
              "      <td>0</td>\n",
              "      <td>0</td>\n",
              "      <td>0</td>\n",
              "      <td>0</td>\n",
              "      <td>0</td>\n",
              "      <td>0.01</td>\n",
              "    </tr>\n",
              "    <tr>\n",
              "      <th>Cluster Labels</th>\n",
              "      <td>2</td>\n",
              "      <td>2</td>\n",
              "      <td>1</td>\n",
              "      <td>1</td>\n",
              "      <td>1</td>\n",
              "      <td>1</td>\n",
              "      <td>0</td>\n",
              "      <td>0</td>\n",
              "      <td>0</td>\n",
              "      <td>0</td>\n",
              "      <td>0</td>\n",
              "    </tr>\n",
              "  </tbody>\n",
              "</table>\n",
              "</div>"
            ],
            "text/plain": [
              "city               Vancouver Miami New York Denver Houston Washington  \\\n",
              "Wings Joint                0     0        0      0       0          0   \n",
              "Women's Store              0     0     0.01      0       0          0   \n",
              "Yoga Studio             0.01  0.01     0.02   0.03       0       0.03   \n",
              "Yoshoku Restaurant         0     0        0      0       0          0   \n",
              "Cluster Labels             2     2        1      1       1          1   \n",
              "\n",
              "city               Montreal Toronto Calgary Dallas Los Angeles  \n",
              "Wings Joint               0       0       0   0.01           0  \n",
              "Women's Store             0    0.01       0      0           0  \n",
              "Yoga Studio            0.01       0    0.02      0           0  \n",
              "Yoshoku Restaurant        0       0       0      0        0.01  \n",
              "Cluster Labels            0       0       0      0           0  "
            ]
          },
          "metadata": {
            "tags": []
          },
          "execution_count": 50
        }
      ]
    },
    {
      "metadata": {
        "id": "oG-5Zpy0OYyc",
        "colab_type": "code",
        "colab": {},
        "outputId": "a146ae86-f8b4-4197-c605-2fa5e2f0f8ef"
      },
      "cell_type": "code",
      "source": [
        "city_clusters_t2.head()"
      ],
      "execution_count": 0,
      "outputs": [
        {
          "output_type": "execute_result",
          "data": {
            "text/html": [
              "<div>\n",
              "<style scoped>\n",
              "    .dataframe tbody tr th:only-of-type {\n",
              "        vertical-align: middle;\n",
              "    }\n",
              "\n",
              "    .dataframe tbody tr th {\n",
              "        vertical-align: top;\n",
              "    }\n",
              "\n",
              "    .dataframe thead th {\n",
              "        text-align: right;\n",
              "    }\n",
              "</style>\n",
              "<table border=\"1\" class=\"dataframe\">\n",
              "  <thead>\n",
              "    <tr style=\"text-align: right;\">\n",
              "      <th>city</th>\n",
              "      <th>Vancouver</th>\n",
              "      <th>Miami</th>\n",
              "      <th>New York</th>\n",
              "      <th>Denver</th>\n",
              "      <th>Houston</th>\n",
              "      <th>Washington</th>\n",
              "      <th>Montreal</th>\n",
              "      <th>Toronto</th>\n",
              "      <th>Calgary</th>\n",
              "      <th>Dallas</th>\n",
              "      <th>Los Angeles</th>\n",
              "    </tr>\n",
              "  </thead>\n",
              "  <tbody>\n",
              "    <tr>\n",
              "      <th>American Restaurant</th>\n",
              "      <td>0.02</td>\n",
              "      <td>0.02</td>\n",
              "      <td>0.02</td>\n",
              "      <td>0.03</td>\n",
              "      <td>0</td>\n",
              "      <td>0.05</td>\n",
              "      <td>0</td>\n",
              "      <td>0.05</td>\n",
              "      <td>0.03</td>\n",
              "      <td>0.04</td>\n",
              "      <td>0.01</td>\n",
              "    </tr>\n",
              "    <tr>\n",
              "      <th>Antique Shop</th>\n",
              "      <td>0</td>\n",
              "      <td>0</td>\n",
              "      <td>0.01</td>\n",
              "      <td>0</td>\n",
              "      <td>0</td>\n",
              "      <td>0</td>\n",
              "      <td>0</td>\n",
              "      <td>0</td>\n",
              "      <td>0</td>\n",
              "      <td>0</td>\n",
              "      <td>0</td>\n",
              "    </tr>\n",
              "    <tr>\n",
              "      <th>Aquarium</th>\n",
              "      <td>0</td>\n",
              "      <td>0</td>\n",
              "      <td>0</td>\n",
              "      <td>0</td>\n",
              "      <td>0.01</td>\n",
              "      <td>0</td>\n",
              "      <td>0</td>\n",
              "      <td>0</td>\n",
              "      <td>0</td>\n",
              "      <td>0</td>\n",
              "      <td>0</td>\n",
              "    </tr>\n",
              "    <tr>\n",
              "      <th>Arcade</th>\n",
              "      <td>0</td>\n",
              "      <td>0</td>\n",
              "      <td>0</td>\n",
              "      <td>0</td>\n",
              "      <td>0</td>\n",
              "      <td>0.01</td>\n",
              "      <td>0</td>\n",
              "      <td>0</td>\n",
              "      <td>0</td>\n",
              "      <td>0</td>\n",
              "      <td>0</td>\n",
              "    </tr>\n",
              "    <tr>\n",
              "      <th>Argentinian Restaurant</th>\n",
              "      <td>0</td>\n",
              "      <td>0.03</td>\n",
              "      <td>0</td>\n",
              "      <td>0</td>\n",
              "      <td>0</td>\n",
              "      <td>0</td>\n",
              "      <td>0</td>\n",
              "      <td>0</td>\n",
              "      <td>0</td>\n",
              "      <td>0</td>\n",
              "      <td>0</td>\n",
              "    </tr>\n",
              "  </tbody>\n",
              "</table>\n",
              "</div>"
            ],
            "text/plain": [
              "city                   Vancouver Miami New York Denver Houston Washington  \\\n",
              "American Restaurant         0.02  0.02     0.02   0.03       0       0.05   \n",
              "Antique Shop                   0     0     0.01      0       0          0   \n",
              "Aquarium                       0     0        0      0    0.01          0   \n",
              "Arcade                         0     0        0      0       0       0.01   \n",
              "Argentinian Restaurant         0  0.03        0      0       0          0   \n",
              "\n",
              "city                   Montreal Toronto Calgary Dallas Los Angeles  \n",
              "American Restaurant           0    0.05    0.03   0.04        0.01  \n",
              "Antique Shop                  0       0       0      0           0  \n",
              "Aquarium                      0       0       0      0           0  \n",
              "Arcade                        0       0       0      0           0  \n",
              "Argentinian Restaurant        0       0       0      0           0  "
            ]
          },
          "metadata": {
            "tags": []
          },
          "execution_count": 69
        }
      ]
    },
    {
      "metadata": {
        "colab_type": "text",
        "id": "47aOcSZ8eYAu"
      },
      "cell_type": "markdown",
      "source": [
        "### Mapping the clusters"
      ]
    },
    {
      "metadata": {
        "colab_type": "code",
        "id": "EXaoJgaPeWsG",
        "outputId": "6db72a75-ec5d-4b4e-ecf2-b89832cb0fa2",
        "scrolled": true,
        "colab": {
          "base_uri": "https://localhost:8080/",
          "height": 611
        }
      },
      "cell_type": "code",
      "source": [
        "# create map\n",
        "map_clusters = folium.Map(location=[latitude, longitude], zoom_start=4)\n",
        "\n",
        "# set color scheme for the clusters\n",
        "x = np.arange(kclusters)\n",
        "ys = [i+x+(i*x)**2 for i in range(kclusters)]\n",
        "colors_array = cm.rainbow(np.linspace(0, 1, len(ys)))\n",
        "rainbow = [colors.rgb2hex(i) for i in colors_array]\n",
        "\n",
        "# add markers to the map\n",
        "markers_colors = []\n",
        "for lat, lon, poi, cluster in zip(city_clusters['lat'], city_clusters['long'], city_clusters['city'], city_clusters['Cluster Labels']):\n",
        "    label = folium.Popup(str(poi) + ' Cluster ' + str(cluster), parse_html=True)\n",
        "    folium.CircleMarker(\n",
        "        [lat, lon],\n",
        "        radius=5,\n",
        "        popup=label,\n",
        "        color=rainbow[cluster-1],\n",
        "        fill=True,\n",
        "        fill_color=rainbow[cluster-1],\n",
        "        fill_opacity=0.7).add_to(map_clusters)\n",
        "       \n",
        "map_clusters"
      ],
      "execution_count": 0,
      "outputs": [
        {
          "output_type": "execute_result",
          "data": {
            "text/html": [
              "<div style=\"width:100%;\"><div style=\"position:relative;width:100%;height:0;padding-bottom:60%;\"><iframe src=\"data:text/html;charset=utf-8;base64,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\" style=\"position:absolute;width:100%;height:100%;left:0;top:0;border:none !important;\" allowfullscreen webkitallowfullscreen mozallowfullscreen></iframe></div></div>"
            ],
            "text/plain": [
              "<folium.folium.Map at 0x1a2662b9e8>"
            ]
          },
          "metadata": {
            "tags": []
          },
          "execution_count": 51
        }
      ]
    },
    {
      "metadata": {
        "id": "ouiOfKWxOYyl",
        "colab_type": "text"
      },
      "cell_type": "markdown",
      "source": [
        "###  Clusters Heatmap"
      ]
    },
    {
      "metadata": {
        "colab_type": "code",
        "id": "eFyQqQrqXnmm",
        "outputId": "0d808353-6472-4844-c8f5-b3f846d6c56e",
        "colab": {
          "base_uri": "https://localhost:8080/",
          "height": 609
        }
      },
      "cell_type": "code",
      "source": [
        "# Mapping the clusters\n",
        "city_clusters_t = city_clusters.sort_values('Cluster Labels', ascending=False)\n",
        "city_clusters_t2 = city_clusters_t.loc[:,'American Restaurant':'Yoshoku Restaurant']\n",
        "city_clusters_t2  = city_clusters_t2.transpose()\n",
        "\n",
        "dims = (12, 50)\n",
        "fig, ax = pyplot.subplots(figsize=dims)\n",
        "sns.heatmap(ax=ax, data=city_clusters_t2)\n",
        "# plt.show()"
      ],
      "execution_count": 0,
      "outputs": [
        {
          "output_type": "execute_result",
          "data": {
            "text/plain": [
              "<matplotlib.axes._subplots.AxesSubplot at 0x1a25932b70>"
            ]
          },
          "metadata": {
            "tags": []
          },
          "execution_count": 76
        },
        {
          "output_type": "display_data",
          "data": {
            "image/png": "[encoded data removed]",
            "text/plain": [
              "<Figure size 864x3600 with 2 Axes>"
            ]
          },
          "metadata": {
            "tags": [],
            "needs_background": "light"
          }
        }
      ]
    },
    {
      "metadata": {
        "colab_type": "text",
        "id": "sxBellKm-Ggd"
      },
      "cell_type": "markdown",
      "source": [
        "# 5. DISCUSSION\n",
        "\n",
        "The **Cluster 0** (Vancouver, BC and Miami) is formed of 2 coastal cities. It could be named the \"Coastal Cluster\". In this cluster, the venues of the type sushi and other Asian type cuisine are prevalent.\n",
        "\n",
        "The **Cluster 1** is composed of:\n",
        "\n",
        "- Montreal,\n",
        "- Toronto,\n",
        "- Dallas,\n",
        "- Los Angeles,\n",
        "- and Calgary \n",
        "<br>\n",
        "In this cluster, coffee shops, American style restaurants, and teakhouses are prevalent. This cluster could be called the \"Coffee Shop Lifestyle\"\n",
        "\n",
        "The **Cluster 2** is composed of:\n",
        "- New York\n",
        "- Denver\n",
        "- Houston\n",
        "- Washington\n",
        "<br>\n",
        "In this cluster, we see a prevalence of the venues types \"Park\", \"Yoga Studio\", \"Theatre\", \"Spa\", \"Gym/Fitness Centers\", ect. Hence, the cluster is called the \"Health Cluster\".\n"
      ]
    },
    {
      "metadata": {
        "colab_type": "text",
        "id": "pva0qJ5g71hT"
      },
      "cell_type": "markdown",
      "source": [
        "# 6. CONCLUSION\n",
        "This project highlighted a clear independent pattern in the type of venues across the studied cities. \n",
        "<br>\n",
        "\n",
        "However, several biases could be in play in the dataset. One could suppose that Foursquare users tend to follow users that are located in same cities. Opinion leaders in each city could favor a certain type of venues over others. These type of venues will then be over-represented when comparing to the real physical occurrences in the city in question.\n",
        "\n",
        "For example, in the \"Health Cluster\", is possible that \"Health conscious\" communities started to use Foursquare to evaluate spa, gym, etc. While other services - like Yelp - are more in vogue to rank these type of venues in other cities.\n",
        "\n",
        "Nevertheless, this project shows that service like Foursquare can be used to compare cities."
      ]
    },
    {
      "metadata": {
        "id": "bG1eKOQMOYyq",
        "colab_type": "code",
        "colab": {}
      },
      "cell_type": "code",
      "source": [
        ""
      ],
      "execution_count": 0,
      "outputs": []
    }
  ]
}